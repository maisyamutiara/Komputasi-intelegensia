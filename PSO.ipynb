{
 "cells": [
  {
   "cell_type": "code",
   "execution_count": 18,
   "metadata": {
    "id": "2TxJx-jCGfxH"
   },
   "outputs": [],
   "source": [
    "import random\n",
    "import numpy as np\n",
    "from matplotlib import pyplot as plt\n",
    "from matplotlib import animation"
   ]
  },
  {
   "cell_type": "code",
   "execution_count": 19,
   "metadata": {
    "id": "-uJWSHdfHPBX"
   },
   "outputs": [],
   "source": [
    "# Fitness function\n",
    "# We assume the problem can be expressed by the following equation: \n",
    "# f(x1,x2)=(x1+2*-x2+3)^2 + (2*x1+x2-8)^2\n",
    "# The objective is to find a minimum which is 0\n",
    "\n",
    "def fitness_function(x1,x2):\n",
    "    f1=x1+2*-x2+3\n",
    "    f2=2*x1+x2-8\n",
    "    z = f1**2+f2**2\n",
    "    return z"
   ]
  },
  {
   "cell_type": "code",
   "execution_count": 20,
   "metadata": {
    "id": "CqTx_VdMHXA5"
   },
   "outputs": [],
   "source": [
    "def update_velocity(particle, velocity, pbest, gbest, w_min=0.5, max=1.0, c=0.1):\n",
    "  # Initialise new velocity array\n",
    "    num_particle = len(particle)\n",
    "    new_velocity = np.array([0.0 for i in range(num_particle)])\n",
    "  # Randomly generate r1, r2 and inertia weight from normal distribution\n",
    "    r1 = random.uniform(0,max)\n",
    "    r2 = random.uniform(0,max)\n",
    "    w = random.uniform(w_min,max)\n",
    "    c1 = c\n",
    "    c2 = c\n",
    "  # Calculate new velocity\n",
    "    for i in range(num_particle):\n",
    "        new_velocity[i] = w*velocity[i] + c1*r1*(pbest[i]-particle[i])+c2*r2*(gbest[i]-particle[i])\n",
    "    return new_velocity"
   ]
  },
  {
   "cell_type": "code",
   "execution_count": 21,
   "metadata": {
    "id": "DvEqe2UfHeqS"
   },
   "outputs": [],
   "source": [
    "def update_position(particle, velocity):\n",
    "  # Move particles by adding velocity\n",
    "    new_particle = particle + velocity\n",
    "    return new_particle"
   ]
  },
  {
   "cell_type": "code",
   "execution_count": 22,
   "metadata": {
    "id": "dOVs0kYBHmM4"
   },
   "outputs": [],
   "source": [
    "def pso_2d(population, dimension, position_min, position_max, generation, fitness_criterion):\n",
    "  # Initialisation\n",
    "  # Population\n",
    "    particles = [[random.uniform(position_min, position_max) for j in range(dimension)] for i in range(population)]\n",
    "  # Particle's best position\n",
    "    pbest_position = particles\n",
    "  # Fitness\n",
    "    pbest_fitness = [fitness_function(p[0],p[1]) for p in particles]\n",
    "  # Index of the best particle\n",
    "    gbest_index = np.argmin(pbest_fitness)\n",
    "  # Global best particle position\n",
    "    gbest_position = pbest_position[gbest_index]\n",
    "  # Velocity (starting from 0 speed)\n",
    "    velocity = [[0.0 for j in range(dimension)] for i in range(population)]\n",
    "  \n",
    "  # Loop for the number of generation\n",
    "    for t in range(generation):\n",
    "    # Stop if the average fitness value reached a predefined success criterion\n",
    "        if np.average(pbest_fitness) <= fitness_criterion:\n",
    "            break\n",
    "        else:\n",
    "            for n in range(population):\n",
    "                # Update the velocity of each particle\n",
    "                velocity[n] = update_velocity(particles[n], velocity[n], pbest_position[n], gbest_position)\n",
    "                # Move the particles to new position\n",
    "                particles[n] = update_position(particles[n], velocity[n])\n",
    "                # Calculate the fitness value\n",
    "                pbest_fitness = [fitness_function(p[0],p[1]) for p in particles]\n",
    "                # Find the index of the best particle\n",
    "                gbest_index = np.argmin(pbest_fitness)\n",
    "                # Update the position of the best particle\n",
    "                gbest_position = pbest_position[gbest_index]\n",
    "\n",
    "  # Print the results\n",
    "    print('Global Best Position: ', gbest_position)\n",
    "    print('Best Fitness Value: ', min(pbest_fitness))\n",
    "    print('Average Particle Best Fitness Value: ', np.average(pbest_fitness))\n",
    "    print('Number of Generation: ', t)"
   ]
  },
  {
   "cell_type": "code",
   "execution_count": 29,
   "metadata": {},
   "outputs": [],
   "source": [
    "population1 = 100\n",
    "dimension1 = 2\n",
    "position_min1 = -100.0\n",
    "position_max1 = 100.0\n",
    "generation1 = 400\n",
    "fitness_criterion1 = 10e-4"
   ]
  },
  {
   "cell_type": "code",
   "execution_count": 30,
   "metadata": {},
   "outputs": [
    {
     "name": "stdout",
     "output_type": "stream",
     "text": [
      "Global Best Position:  [2.60003688 2.80007162]\n",
      "Best Fitness Value:  3.245111370281555e-08\n",
      "Average Particle Best Fitness Value:  0.000964630779470189\n",
      "Number of Generation:  66\n"
     ]
    }
   ],
   "source": [
    "pso_2d(population1, dimension1, position_min1, position_max1, generation1, fitness_criterion1)"
   ]
  },
  {
   "cell_type": "markdown",
   "metadata": {},
   "source": [
    "# Untuk Fitness Function yang sama"
   ]
  },
  {
   "cell_type": "code",
   "execution_count": 32,
   "metadata": {},
   "outputs": [],
   "source": [
    "population2 = 100\n",
    "dimension2 = 2\n",
    "position_min2 = -100.0\n",
    "position_max2 = 100.0\n",
    "generation2 = 400\n",
    "fitness_criterion2 = 0.0001"
   ]
  },
  {
   "cell_type": "code",
   "execution_count": 33,
   "metadata": {},
   "outputs": [
    {
     "name": "stdout",
     "output_type": "stream",
     "text": [
      "Global Best Position:  [2.60000966 2.80000002]\n",
      "Best Fitness Value:  4.666604962573323e-10\n",
      "Average Particle Best Fitness Value:  9.62837767208567e-05\n",
      "Number of Generation:  78\n"
     ]
    }
   ],
   "source": [
    "pso_2d(population2, dimension2, position_min2, position_max2, generation2, fitness_criterion2)"
   ]
  },
  {
   "cell_type": "code",
   "execution_count": 36,
   "metadata": {},
   "outputs": [],
   "source": [
    "population3 = 100\n",
    "dimension3 = 2\n",
    "position_min3 = -50.0\n",
    "position_max3 = 50.0\n",
    "generation3 = 400\n",
    "fitness_criterion3 = 0.0001"
   ]
  },
  {
   "cell_type": "code",
   "execution_count": 37,
   "metadata": {},
   "outputs": [
    {
     "name": "stdout",
     "output_type": "stream",
     "text": [
      "Global Best Position:  [2.59999077 2.80000219]\n",
      "Best Fitness Value:  4.502471330455522e-10\n",
      "Average Particle Best Fitness Value:  6.777111889578712e-05\n",
      "Number of Generation:  72\n"
     ]
    }
   ],
   "source": [
    "pso_2d(population3, dimension3, position_min3, position_max3, generation3, fitness_criterion3)"
   ]
  },
  {
   "cell_type": "code",
   "execution_count": 39,
   "metadata": {},
   "outputs": [],
   "source": [
    "population4 = 100\n",
    "dimension4 = 2\n",
    "position_min4 = -100.0\n",
    "position_max4 = 100.0\n",
    "generation4 = 200\n",
    "fitness_criterion4 = 0.0001"
   ]
  },
  {
   "cell_type": "code",
   "execution_count": 40,
   "metadata": {},
   "outputs": [
    {
     "name": "stdout",
     "output_type": "stream",
     "text": [
      "Global Best Position:  [2.59999581 2.80000438]\n",
      "Best Fitness Value:  1.8343045056363815e-10\n",
      "Average Particle Best Fitness Value:  6.33445259411227e-05\n",
      "Number of Generation:  75\n"
     ]
    }
   ],
   "source": [
    "pso_2d(population4, dimension4, position_min4, position_max4, generation4, fitness_criterion4)"
   ]
  },
  {
   "cell_type": "code",
   "execution_count": null,
   "metadata": {},
   "outputs": [],
   "source": []
  }
 ],
 "metadata": {
  "colab": {
   "provenance": []
  },
  "kernelspec": {
   "display_name": "Python 3",
   "language": "python",
   "name": "python3"
  },
  "language_info": {
   "codemirror_mode": {
    "name": "ipython",
    "version": 3
   },
   "file_extension": ".py",
   "mimetype": "text/x-python",
   "name": "python",
   "nbconvert_exporter": "python",
   "pygments_lexer": "ipython3",
   "version": "3.8.3"
  }
 },
 "nbformat": 4,
 "nbformat_minor": 1
}
